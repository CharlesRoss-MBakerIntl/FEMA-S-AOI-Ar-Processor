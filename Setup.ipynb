{
 "cells": [
  {
   "cell_type": "code",
   "execution_count": 1,
   "metadata": {
    "scrolled": true
   },
   "outputs": [],
   "source": [
    "import tkinter as tk\n",
    "from tkinter import filedialog\n",
    "from tkinter import messagebox\n",
    "import arcpy\n",
    "import pandas\n",
    "import os\n",
    "import glob"
   ]
  },
  {
   "cell_type": "markdown",
   "metadata": {},
   "source": [
    "<div style=\"height: 30px;\"></div>"
   ]
  },
  {
   "cell_type": "markdown",
   "metadata": {},
   "source": [
    "### Step 1: Select the File Path for Main Folder"
   ]
  },
  {
   "cell_type": "code",
   "execution_count": 2,
   "metadata": {
    "scrolled": true
   },
   "outputs": [],
   "source": [
    "# Open a folder selection dialog\n",
    "folder_path = filedialog.askdirectory(title=\"Select a Folder\")\n",
    "confirm = messagebox.askyesno(\"Confirm Folder\", f\"You selected:\\n\\n{folder_path}\\n\\nIs this correct?\")"
   ]
  },
  {
   "cell_type": "markdown",
   "metadata": {},
   "source": [
    "<div style=\"height: 30px;\"></div>"
   ]
  },
  {
   "cell_type": "markdown",
   "metadata": {},
   "source": [
    "### Step 2: Check for Existing Geodatabases and Create if Necessary"
   ]
  },
  {
   "cell_type": "code",
   "execution_count": 3,
   "metadata": {
    "scrolled": true
   },
   "outputs": [
    {
     "name": "stdout",
     "output_type": "stream",
     "text": [
      "Geodatabase created at: C:/git/FEMA TOOL\\Coastal.gdb\n",
      "Geodatabase created at: C:/git/FEMA TOOL\\Riverine.gdb\n"
     ]
    }
   ],
   "source": [
    "# Specify the folder path where you want to create the geodatabase\n",
    "cst_gdb_name = 'Coastal.gdb'\n",
    "cst_output_workspace = os.path.join(folder_path, cst_gdb_name)\n",
    "\n",
    "riv_gdb_name = 'Riverine.gdb'\n",
    "riv_output_workspace = os.path.join(folder_path, riv_gdb_name)\n",
    "\n",
    "\n",
    "# Check if the Coastal geodatabase already exists\n",
    "if not arcpy.Exists(cst_output_workspace):\n",
    "    # Create the geodatabase\n",
    "    arcpy.management.CreateFileGDB(folder_path, 'Coastal')\n",
    "    print(f\"Geodatabase created at: {cst_output_workspace}\")\n",
    "else:\n",
    "    print(f\"Geodatabase already exists at: {cst_output_workspace}\")\n",
    "    \n",
    "    \n",
    "    \n",
    "# Check if the Riverine geodatabase already exists\n",
    "if not arcpy.Exists(riv_output_workspace):\n",
    "    # Create the geodatabase\n",
    "    arcpy.management.CreateFileGDB(folder_path, 'Riverine')\n",
    "    print(f\"Geodatabase created at: {riv_output_workspace}\")\n",
    "else:\n",
    "    print(f\"Geodatabase already exists at: {riv_output_workspace}\")"
   ]
  },
  {
   "cell_type": "markdown",
   "metadata": {},
   "source": [
    "<div style=\"height: 30px;\"></div>"
   ]
  },
  {
   "cell_type": "markdown",
   "metadata": {
    "scrolled": true
   },
   "source": [
    "<div style=\"height: 30px;\"></div>"
   ]
  },
  {
   "cell_type": "markdown",
   "metadata": {
    "scrolled": true
   },
   "source": [
    "### Step 4: Process Coastal Feature Classes and Merge\n",
    "\n"
   ]
  },
  {
   "cell_type": "code",
   "execution_count": 4,
   "metadata": {
    "scrolled": true
   },
   "outputs": [],
   "source": [
    "# Set Coastal Workspace\n",
    "arcpy.env.workspace = cst_output_workspace\n",
    "\n",
    "#Create Coastal Combined Feature Class Name\n",
    "cst_combined_name = \"Coastal_Combined_S_AOI_Ar_WGS84\"\n",
    "geometry_type = \"POLYGON\"\n",
    "\n",
    "# Create the feature class\n",
    "arcpy.CreateFeatureclass_management(cst_output_workspace, cst_combined_name, geometry_type)\n",
    "\n",
    "# Set the spatial reference to WGS84\n",
    "spatial_reference = arcpy.SpatialReference(4326)  # WGS84 WKID\n",
    "arcpy.DefineProjection_management(cst_combined_name, spatial_reference)\n",
    "\n",
    "\n",
    "# List of fields to add (same as before)\n",
    "field_list = [\n",
    "    {\"name\": \"AOI_ID\", \"type\": \"TEXT\", \"length\": 25},\n",
    "    {\"name\": \"FIPS\", \"type\": \"TEXT\", \"length\": 5},\n",
    "    {\"name\": \"POL_NAME1\", \"type\": \"TEXT\", \"length\": 50},\n",
    "    {\"name\": \"AOI_TYP\", \"type\": \"TEXT\", \"length\": 25},\n",
    "    {\"name\": \"AOI_ISSUE\", \"type\": \"TEXT\", \"length\": 100},\n",
    "    {\"name\": \"AOI_INFO\", \"type\": \"TEXT\", \"length\": 254},\n",
    "    {\"name\": \"NOTES\", \"type\": \"TEXT\", \"length\": 254},\n",
    "]\n",
    "\n",
    "\n",
    "# Add fields to the feature class\n",
    "for field in field_list:\n",
    "    arcpy.AddField_management(cst_combined_name, field[\"name\"], field[\"type\"], field_length=field.get(\"length\"))"
   ]
  },
  {
   "cell_type": "markdown",
   "metadata": {},
   "source": [
    "<div style=\"height: 30px;\"></div>"
   ]
  },
  {
   "cell_type": "markdown",
   "metadata": {},
   "source": [
    "### Step 5: Process Riverine Feature Classes and Merge"
   ]
  },
  {
   "cell_type": "code",
   "execution_count": 5,
   "metadata": {},
   "outputs": [],
   "source": [
    "# Set Coastal Workspace\n",
    "arcpy.env.workspace = riv_output_workspace\n",
    "\n",
    "#Create Coastal Combined Feature Class Name\n",
    "riv_combined_name = \"Riverine_Combined_S_AOI_Ar_WGS84\"\n",
    "geometry_type = \"POLYGON\" \n",
    "\n",
    "# Create the feature class\n",
    "arcpy.CreateFeatureclass_management(riv_output_workspace, riv_combined_name, geometry_type)\n",
    "\n",
    "# Set the spatial reference to WGS84\n",
    "spatial_reference = arcpy.SpatialReference(4326)  # WGS84 WKID\n",
    "arcpy.DefineProjection_management(riv_combined_name, spatial_reference)\n",
    "\n",
    "\n",
    "# List of fields to add (same as before)\n",
    "field_list = [\n",
    "    {\"name\": \"AOI_ID\", \"type\": \"TEXT\", \"length\": 25},\n",
    "    {\"name\": \"FIPS\", \"type\": \"TEXT\", \"length\": 5},\n",
    "    {\"name\": \"POL_NAME1\", \"type\": \"TEXT\", \"length\": 50},\n",
    "    {\"name\": \"AOI_TYP\", \"type\": \"TEXT\", \"length\": 25},\n",
    "    {\"name\": \"AOI_ISSUE\", \"type\": \"TEXT\", \"length\": 100},\n",
    "    {\"name\": \"AOI_INFO\", \"type\": \"TEXT\", \"length\": 254},\n",
    "    {\"name\": \"NOTES\", \"type\": \"TEXT\", \"length\": 254},\n",
    "]\n",
    "\n",
    "\n",
    "# Add fields to the feature class\n",
    "for field in field_list:\n",
    "    arcpy.AddField_management(riv_combined_name, field[\"name\"], field[\"type\"], field_length=field.get(\"length\"))"
   ]
  },
  {
   "cell_type": "markdown",
   "metadata": {},
   "source": [
    "<div style=\"height: 30px;\"></div>"
   ]
  },
  {
   "cell_type": "markdown",
   "metadata": {},
   "source": [
    "### Step 6: Compare and Confirm"
   ]
  },
  {
   "cell_type": "code",
   "execution_count": 6,
   "metadata": {
    "scrolled": true
   },
   "outputs": [
    {
     "name": "stdout",
     "output_type": "stream",
     "text": [
      "The schemas match.\n"
     ]
    }
   ],
   "source": [
    "# Compare the features\n",
    "compare_result = arcpy.management.FeatureCompare(\n",
    "    in_base_features=cst_combined_name,\n",
    "    in_test_features=riv_combined_name,\n",
    "    sort_field = \"OBJECTID\",\n",
    "    continue_compare=\"CONTINUE_COMPARE\",\n",
    "    out_compare_file=None  # No need to save a report file\n",
    ")\n",
    "\n",
    "\n",
    "# Check if there are any differences (ignore geometry differences)\n",
    "if compare_result.getOutput(1) == \"true\":\n",
    "    print(\"The schemas match.\")\n",
    "else:\n",
    "    print(\"The schemas do not match.\")"
   ]
  }
 ],
 "metadata": {
  "kernelspec": {
   "display_name": "ArcGISPro",
   "language": "Python",
   "name": "python3"
  },
  "language_info": {
   "file_extension": ".py",
   "name": "python",
   "version": "3"
  }
 },
 "nbformat": 4,
 "nbformat_minor": 2
}
