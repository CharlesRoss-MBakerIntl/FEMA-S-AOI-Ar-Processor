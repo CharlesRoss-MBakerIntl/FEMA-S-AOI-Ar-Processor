{
 "cells": [
  {
   "cell_type": "markdown",
   "metadata": {},
   "source": [
    "# Introduction to the S_AOI_Ar Combiner\n",
    "\n",
    "Welcome to this Jupyter Notebook dedicated to combining feature classes in the coastal and riverine geo databases into a single feature class with a WGS 84 spatial reference. In this notebook, we will merge the newly converted feature classes and store them in their respective Geo Databases.\n",
    "\n",
    "### Objectives\n",
    "- **Merge Feature Classes**: The main goal is to combine the converted feature classes from the Coastal and Riverine datasets into a single feature class with a WGS 84 spatial reference.\n",
    "- **Organize Data**: By merging the feature classes, we create standardized datasets for spatial analysis and visualization purposes.\n",
    "\n",
    "### Prerequisites\n",
    "Before proceeding, ensure that you have the necessary libraries installed in your Python environment:\n",
    "- `tkinter` for creating GUI dialogs\n",
    "- `arcpy` for geospatial analysis\n",
    "- `pandas` for data manipulation\n",
    "- `os` and `glob` for file handling\n",
    "\n",
    "Let’s get started by loading our libraries and running the code to combine the feature classes! Remember to select the cell and press `Ctrl + Enter` to execute the code."
   ]
  },
  {
   "cell_type": "code",
   "execution_count": null,
   "metadata": {
    "scrolled": true
   },
   "outputs": [],
   "source": [
    "import tkinter as tk\n",
    "from tkinter import filedialog\n",
    "from tkinter import messagebox\n",
    "import arcpy\n",
    "import pandas\n",
    "import os\n",
    "import glob"
   ]
  },
  {
   "cell_type": "markdown",
   "metadata": {},
   "source": [
    "<div style=\"height: 30px;\"></div>"
   ]
  },
  {
   "cell_type": "markdown",
   "metadata": {},
   "source": [
    "### Step 2: Geo Database Folder Selection\n",
    "Now we need to confirm the path to the Coastal and Riverine geodatabases.  This Python code snippet opens a folder selection dialog to specify the path to a Geo Database folder, select the folder that contains them, it should be named `FEMA-S-AOI-Ar-Processor`. Confirm the selected folder with a message box.\n",
    "\n",
    "1. **Run the Code Cell Below**: Execute the cell provided to open a file dialog that will allow you to browse your system.\n",
    "2. **Navigate to the Geo Datbase Folder**: In the dialog, locate and select the folder that contains your FEMA floodplain data files.\n",
    "3. **Confirm Your Selection**: Once you have selected the folder, click \"OK\" to confirm your choice."
   ]
  },
  {
   "cell_type": "code",
   "execution_count": null,
   "metadata": {
    "scrolled": true
   },
   "outputs": [],
   "source": [
    "# Open a folder selection dialog\n",
    "gdb_folder_path = filedialog.askdirectory(title=\"Select Geo Database Folder\")\n",
    "confirm = messagebox.askyesno(\"Confirm Folder\", f\"You selected:\\n\\n{gdb_folder_path}\\n\\nIs this correct?\")\n",
    "\n",
    "# Specify the Coastal and Riverine GeoDatabases\n",
    "cst_gdb = os.path.join(gdb_folder_path, 'Coastal.gdb')\n",
    "riv_gdb = os.path.join(gdb_folder_path, 'Riverine.gdb')\n",
    "\n",
    "\n",
    "# Produce Warning if Geo Databases Dont Exist\n",
    "if not arcpy.Exists(cst_gdb):\n",
    "    messagebox.showwarning(\"Warning\", \"Coastal Geo Database Does Not Exist.\\n\\nPlease Create with Setup before Continuing.\")\n",
    "    \n",
    "# Produce Warning if Geo Databases Dont Exist\n",
    "if not arcpy.Exists(riv_gdb):\n",
    "    messagebox.showwarning(\"Warning\", \"Riverine Geo Database Does Not Exist.\\n\\nPlease Create with Setup before Continuing.\")"
   ]
  },
  {
   "cell_type": "markdown",
   "metadata": {},
   "source": [
    "<div style=\"height: 30px;\"></div>"
   ]
  },
  {
   "cell_type": "markdown",
   "metadata": {
    "scrolled": true
   },
   "source": [
    "### Step 3: Process Coastal and Riverine Feature Classes and Merge\n",
    "\n",
    "In this step, we will iterate through the list of feature classes in the coastal and riverine geo databases, merge them into respective single feature classes. Here's a detailed explanation of how to execute this process for both coastal and riverine data:\n",
    "\n",
    "1. **Setting Up Environment**:\n",
    "    - Start by ensuring that the arcpy library is correctly installed in your Python environment for geospatial analysis.\n",
    "    - Determine if you want to prevent the output feature classes from being added to the map by setting `arcpy.env.addOutputsToMap = True`.\n",
    "\n",
    "2. **Specifying Workspace for Coastal Data**:\n",
    "    - Set the workspace (`cst_gdb`) variable to the path where the coastal geo database is located.\n",
    "\n",
    "3. **Processing Coastal Feature Classes**:\n",
    "    - Initialize counters for the coastal processes, such as total_counties, coastal_succeed, coastal_fail, and coastal_fail_list.\n",
    "    - Assign a name (`cst_combined_name`) for the combined feature class for coastal data.\n",
    "    - Obtain a list of feature classes in the coastal geo database using `arcpy.ListFeatureClasses()`.\n",
    "    - Iterate through each coastal feature class, skipping the empty feature class, and attempt to merge them into the combined feature class.\n",
    "    - Update success and failure counts, print messages for successful merges or failures.\n",
    "\n",
    "4. **Specifying Workspace for Riverine Data**:\n",
    "    - Set the workspace (`riv_gdb`) variable to the path where the riverine geo database is located.\n",
    "\n",
    "5. **Processing Riverine Feature Classes**:\n",
    "    - Initialize counters for the riverine processes, such as total_counties, riverine_succeed, riverine_fail, and riverine_fail_list.\n",
    "    - Assign a name (`riv_combined_name`) for the combined feature class for riverine data.\n",
    "    - Obtain a list of feature classes in the riverine geo database using `arcpy.ListFeatureClasses()`.\n",
    "    - Iterate through each riverine feature class, skipping the empty feature class, and attempt to merge them into the combined feature class.\n",
    "    - Update success and failure counts, print messages for successful merges or failures.\n",
    "\n",
    "6. **Printing Summary Reports**:\n",
    "    - After processing all feature classes for both coastal and riverine data, print summary reports showing the total number of feature classes processed, successful merges, and failed merges for each dataset.\n",
    "\n",
    "7. **Displaying List of Failures**:\n",
    "    - If there are any failed merges for coastal or riverine data, list them explicitly with the feature class name and reason for failure.\n",
    "\n",
    "Remember to run this code in a Python environment with arcpy installed and verified workspace variables set correctly. By the end of this process, the newly combined feature classes for coastal and riverine data will be stored in their respective geo databases for further analysis and visualization."
   ]
  },
  {
   "cell_type": "markdown",
   "metadata": {},
   "source": [
    "#### Step 3A: Merge Coastal Files"
   ]
  },
  {
   "cell_type": "code",
   "execution_count": null,
   "metadata": {
    "scrolled": false
   },
   "outputs": [],
   "source": [
    "#Prevent from being added to the map\n",
    "arcpy.env.addOutputsToMap = True\n",
    "\n",
    "# Step 1: Grab the first feature class in the CoastalConverted folder\n",
    "arcpy.env.workspace = cst_gdb\n",
    "\n",
    "#Set Counters for Processes \n",
    "total_counties = 0\n",
    "coastal_succeed = 0\n",
    "coastal_fail = 0\n",
    "coastal_fail_list = []\n",
    "\n",
    "#Create Coastal Combined Feature Class Name\n",
    "cst_combined_name = \"Coastal_Combined_S_AOI_Ar_WGS84\"\n",
    "\n",
    "#Find List of Feature Classes\n",
    "feature_classes = arcpy.ListFeatureClasses()\n",
    "\n",
    "\n",
    "# Step 4: Cycle through each feature class in the geodatabase and merge them into the empty feature class one at a time\n",
    "for fc in feature_classes:\n",
    "    if fc != cst_combined_name:  # Skip the empty feature class\n",
    "\n",
    "        try:\n",
    "            arcpy.management.Append(os.path.join(cst_gdb, fc), cst_combined_name)\n",
    "            coastal_succeed += 1\n",
    "            total_counties += 1\n",
    "            print(f\"Merged {fc} into {cst_combined_name}.\")\n",
    "\n",
    "\n",
    "        except Exception as e:\n",
    "            error = [fc, \"Failed to Merge\", e]\n",
    "            coastal_fail_list.append(error)\n",
    "            coastal_fail += 1\n",
    "            total_counties += 1\n",
    "            print(f\"Failed to Merge {fc} into {cst_combined_name}.\")\n",
    "\n",
    "\n",
    "print(\"\")\n",
    "print(\"\")\n",
    "\n",
    "# Print summary\n",
    "print(\"Summary Report\")\n",
    "print(\"=================\")\n",
    "print(f\"Total Counties: {total_counties}\")\n",
    "print(f\"  Successfully Processed: {coastal_succeed}\")\n",
    "print(f\"  Failed to Process: {coastal_fail}\")\n",
    "\n",
    "print(\"\")\n",
    "print(\"\")\n",
    "\n",
    "#Print List of Failures if Present\n",
    "if len(coastal_fail_list) > 0:\n",
    "    print(\"Coastal Failed Conversions\")\n",
    "\n",
    "    for item in coastal_fail_list:\n",
    "        print(f\"  {item}\")"
   ]
  },
  {
   "cell_type": "markdown",
   "metadata": {},
   "source": [
    "#### Step 3B: Merge Riverine Files"
   ]
  },
  {
   "cell_type": "code",
   "execution_count": null,
   "metadata": {
    "scrolled": true
   },
   "outputs": [],
   "source": [
    "#Prevent from being added to the map\n",
    "arcpy.env.addOutputsToMap = True\n",
    "\n",
    "# Step 1: Grab the first feature class in the CoastalConverted folder\n",
    "arcpy.env.workspace = riv_gdb\n",
    "\n",
    "#Set Counters for Processes \n",
    "total_counties = 0\n",
    "riverine_succeed = 0\n",
    "riverine_fail = 0\n",
    "riverine_fail_list = []\n",
    "\n",
    "\n",
    "#Create Coastal Combined Feature Class Name\n",
    "riv_combined_name = \"Riverine_Combined_S_AOI_Ar_WGS84\"\n",
    "\n",
    "#Find List of Feature Classes\n",
    "feature_classes = arcpy.ListFeatureClasses()\n",
    "\n",
    "\n",
    "# Step 4: Cycle through each feature class in the geodatabase and merge them into the empty feature class one at a time\n",
    "for fc in feature_classes:\n",
    "    if fc != riv_combined_name:  # Skip the empty feature class\n",
    "\n",
    "        try:\n",
    "            arcpy.management.Append(os.path.join(riv_gdb, fc), riv_combined_name)\n",
    "            riverine_succeed += 1\n",
    "            total_counties += 1\n",
    "            print(f\"Merged {fc} into {riv_combined_name}.\")\n",
    "\n",
    "\n",
    "        except Exception as e:\n",
    "            error = [fc, \"Failed to Merge\", e]\n",
    "            riverine_fail_list.append(error)\n",
    "            riverine_fail += 1\n",
    "            total_counties += 1\n",
    "            print(f\"Failed to Merge {fc} into {riv_combined_name}.\")\n",
    "\n",
    "\n",
    "print(\"\")\n",
    "print(\"\")\n",
    "\n",
    "# Print summary\n",
    "print(\"Summary Report\")\n",
    "print(\"=================\")\n",
    "print(f\"Total Counties: {total_counties}\")\n",
    "print(f\"  Successfully Processed: {riverine_succeed}\")\n",
    "print(f\"  Failed to Process: {riverine_fail}\")\n",
    "\n",
    "print(\"\")\n",
    "print(\"\")\n",
    "\n",
    "#Print List of Failures if Present\n",
    "if len(riverine_fail_list) > 0:\n",
    "    print(\"Coastal Failed Conversions\")\n",
    "\n",
    "    for item in riverine_fail_list:\n",
    "        print(f\"  {item}\")"
   ]
  }
 ],
 "metadata": {
  "kernelspec": {
   "display_name": "ArcGISPro",
   "language": "Python",
   "name": "python3"
  },
  "language_info": {
   "file_extension": ".py",
   "name": "python",
   "version": "3"
  }
 },
 "nbformat": 4,
 "nbformat_minor": 2
}
