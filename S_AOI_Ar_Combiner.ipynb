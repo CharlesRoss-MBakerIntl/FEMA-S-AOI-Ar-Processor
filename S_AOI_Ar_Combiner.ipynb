{
 "cells": [
  {
   "cell_type": "markdown",
   "metadata": {},
   "source": [
    "# Introduction to the S_AOI_Ar Processor\n",
    "\n",
    "Welcome to this Jupyter Notebook dedicated to combining the processed riverine and coastal floodplain data collected by Michael Baker for the FFRMS Project. In this notebook, we will systematically cycle through the floodplain datasets, specifically focusing on extracting relevant files identified as **S_AOI_Ar** from both the Riverine and Coastal data categories, then combining them into a single feature layer. \n",
    "\n",
    "### Objectives\n",
    "- **Extract Specific Files**: Our primary focus will be on locating and extracting files named **S_AOI_Ar** from the Riverine and Coastal datasets.\n",
    "- **Combine Data**: Finally, we will merge these extracted files into a single feature class for easier analysis and visualization.\n",
    "\n",
    "### Prerequisites\n",
    "Before we dive in, ensure you have the following libraries installed in your Python environment:\n",
    "- `tkinter` for creating GUI dialogs\n",
    "- `arcpy` for geospatial analysis\n",
    "- `pandas` for data manipulation\n",
    "- `os` and `glob` for file handling\n",
    "\n",
    "Let’s get started by loading our libraries and setting up the environment!\n",
    "\n",
    "When wanting to run a cell of code, first select the cell, then press `Ctrl + Enter`"
   ]
  },
  {
   "cell_type": "code",
   "execution_count": 15,
   "metadata": {
    "scrolled": true
   },
   "outputs": [],
   "source": [
    "import tkinter as tk\n",
    "from tkinter import filedialog\n",
    "from tkinter import messagebox\n",
    "import arcpy\n",
    "import pandas\n",
    "import os\n",
    "import glob"
   ]
  },
  {
   "cell_type": "markdown",
   "metadata": {},
   "source": [
    "<div style=\"height: 30px;\"></div>"
   ]
  },
  {
   "cell_type": "markdown",
   "metadata": {},
   "source": [
    "### Step 1: Select the File Path for the Data"
   ]
  },
  {
   "cell_type": "code",
   "execution_count": 16,
   "metadata": {
    "scrolled": true
   },
   "outputs": [],
   "source": [
    "# Open a folder selection dialog\n",
    "gdb_folder_path = filedialog.askdirectory(title=\"Select Geo Database Folder\")\n",
    "confirm = messagebox.askyesno(\"Confirm Folder\", f\"You selected:\\n\\n{folder_path}\\n\\nIs this correct?\")\n",
    "\n",
    "# Specify the Coastal and Riverine GeoDatabases\n",
    "cst_gdb = os.path.join(gdb_folder_path, 'Coastal.gdb')\n",
    "riv_gdb = os.path.join(gdb_folder_path, 'Riverine.gdb')\n",
    "\n",
    "\n",
    "# Produce Warning if Geo Databases Dont Exist\n",
    "if not arcpy.Exists(cst_gdb):\n",
    "    messagebox.showwarning(\"Warning\", \"Coastal Geo Database Does Not Exist.\\n\\nPlease Create with Setup before Continuing.\")\n",
    "    \n",
    "# Produce Warning if Geo Databases Dont Exist\n",
    "if not arcpy.Exists(riv_gdb):\n",
    "    messagebox.showwarning(\"Warning\", \"Riverine Geo Database Does Not Exist.\\n\\nPlease Create with Setup before Continuing.\")"
   ]
  },
  {
   "cell_type": "markdown",
   "metadata": {},
   "source": [
    "<div style=\"height: 30px;\"></div>"
   ]
  },
  {
   "cell_type": "markdown",
   "metadata": {
    "scrolled": true
   },
   "source": [
    "### Step 4: Process Coastal Feature Classes and Merge\n",
    "\n"
   ]
  },
  {
   "cell_type": "code",
   "execution_count": 17,
   "metadata": {
    "scrolled": false
   },
   "outputs": [
    {
     "name": "stdout",
     "output_type": "stream",
     "text": [
      "Merged NJ_34013_S_AOI_Ar_Coastal_WGS84 into Coastal_Combined_S_AOI_Ar_WGS84.\n",
      "Merged NJ_34023_S_AOI_Ar_Coastal_WGS84 into Coastal_Combined_S_AOI_Ar_WGS84.\n",
      "Merged PR_72051_S_AOI_Ar_Coastal_WGS84 into Coastal_Combined_S_AOI_Ar_WGS84.\n",
      "﻿\n",
      "﻿\n",
      "Summary Report\n",
      "=================\n",
      "Total Counties: 3\n",
      "  Successfully Processed: 3\n",
      "  Failed to Process: 0\n",
      "﻿\n",
      "﻿\n"
     ]
    }
   ],
   "source": [
    "#Prevent from being added to the map\n",
    "arcpy.env.addOutputsToMap = True\n",
    "\n",
    "# Step 1: Grab the first feature class in the CoastalConverted folder\n",
    "arcpy.env.workspace = cst_gdb\n",
    "\n",
    "#Set Counters for Processes \n",
    "total_counties = 0\n",
    "coastal_succeed = 0\n",
    "coastal_fail = 0\n",
    "coastal_fail_list = []\n",
    "\n",
    "#Create Coastal Combined Feature Class Name\n",
    "cst_combined_name = \"Coastal_Combined_S_AOI_Ar_WGS84\"\n",
    "\n",
    "#Find List of Feature Classes\n",
    "feature_classes = arcpy.ListFeatureClasses()\n",
    "\n",
    "\n",
    "# Step 4: Cycle through each feature class in the geodatabase and merge them into the empty feature class one at a time\n",
    "for fc in feature_classes:\n",
    "    if fc != cst_combined_name:  # Skip the empty feature class\n",
    "\n",
    "        try:\n",
    "            arcpy.management.Append(os.path.join(cst_gdb, fc), cst_combined_name)\n",
    "            coastal_succeed += 1\n",
    "            total_counties += 1\n",
    "            print(f\"Merged {fc} into {cst_combined_name}.\")\n",
    "\n",
    "\n",
    "        except Exception as e:\n",
    "            error = [fc, \"Failed to Merge\", e]\n",
    "            coastal_fail_list.append(error)\n",
    "            coastal_fail += 1\n",
    "            total_counties += 1\n",
    "            print(f\"Failed to Merge {fc} into {cst_combined_name}.\")\n",
    "\n",
    "\n",
    "print(\"\")\n",
    "print(\"\")\n",
    "\n",
    "# Print summary\n",
    "print(\"Summary Report\")\n",
    "print(\"=================\")\n",
    "print(f\"Total Counties: {total_counties}\")\n",
    "print(f\"  Successfully Processed: {coastal_succeed}\")\n",
    "print(f\"  Failed to Process: {coastal_fail}\")\n",
    "\n",
    "print(\"\")\n",
    "print(\"\")\n",
    "\n",
    "#Print List of Failures if Present\n",
    "if len(coastal_fail_list) > 0:\n",
    "    print(\"Coastal Failed Conversions\")\n",
    "\n",
    "    for item in coastal_fail_list:\n",
    "        print(f\"  {item}\")"
   ]
  },
  {
   "cell_type": "markdown",
   "metadata": {},
   "source": [
    "<div style=\"height: 30px;\"></div>"
   ]
  },
  {
   "cell_type": "markdown",
   "metadata": {},
   "source": [
    "### Step 5: Process Riverine Feature Classes and Merge"
   ]
  },
  {
   "cell_type": "code",
   "execution_count": 19,
   "metadata": {
    "scrolled": true
   },
   "outputs": [
    {
     "name": "stdout",
     "output_type": "stream",
     "text": [
      "Merged NJ_34013_S_AOI_Ar_Riverine_WGS84 into Riverine_Combined_S_AOI_Ar_WGS84.\n",
      "Merged NJ_34023_S_AOI_Ar_Riverine_WGS84 into Riverine_Combined_S_AOI_Ar_WGS84.\n",
      "Merged PR_72051_S_AOI_Ar_Riverine_WGS84 into Riverine_Combined_S_AOI_Ar_WGS84.\n",
      "﻿\n",
      "﻿\n",
      "Summary Report\n",
      "=================\n",
      "Total Counties: 3\n",
      "  Successfully Processed: 3\n",
      "  Failed to Process: 0\n",
      "﻿\n",
      "﻿\n"
     ]
    }
   ],
   "source": [
    "#Prevent from being added to the map\n",
    "arcpy.env.addOutputsToMap = True\n",
    "\n",
    "# Step 1: Grab the first feature class in the CoastalConverted folder\n",
    "arcpy.env.workspace = riv_gdb\n",
    "\n",
    "#Set Counters for Processes \n",
    "total_counties = 0\n",
    "riverine_succeed = 0\n",
    "riverine_fail = 0\n",
    "riverine_fail_list = []\n",
    "\n",
    "\n",
    "#Create Coastal Combined Feature Class Name\n",
    "riv_combined_name = \"Riverine_Combined_S_AOI_Ar_WGS84\"\n",
    "\n",
    "#Find List of Feature Classes\n",
    "feature_classes = arcpy.ListFeatureClasses()\n",
    "\n",
    "\n",
    "# Step 4: Cycle through each feature class in the geodatabase and merge them into the empty feature class one at a time\n",
    "for fc in feature_classes:\n",
    "    if fc != riv_combined_name:  # Skip the empty feature class\n",
    "\n",
    "        try:\n",
    "            arcpy.management.Append(os.path.join(riv_gdb, fc), riv_combined_name)\n",
    "            riverine_succeed += 1\n",
    "            total_counties += 1\n",
    "            print(f\"Merged {fc} into {riv_combined_name}.\")\n",
    "\n",
    "\n",
    "        except Exception as e:\n",
    "            error = [fc, \"Failed to Merge\", e]\n",
    "            riverine_fail_list.append(error)\n",
    "            riverine_fail += 1\n",
    "            total_counties += 1\n",
    "            print(f\"Failed to Merge {fc} into {riv_combined_name}.\")\n",
    "\n",
    "\n",
    "print(\"\")\n",
    "print(\"\")\n",
    "\n",
    "# Print summary\n",
    "print(\"Summary Report\")\n",
    "print(\"=================\")\n",
    "print(f\"Total Counties: {total_counties}\")\n",
    "print(f\"  Successfully Processed: {riverine_succeed}\")\n",
    "print(f\"  Failed to Process: {riverine_fail}\")\n",
    "\n",
    "print(\"\")\n",
    "print(\"\")\n",
    "\n",
    "#Print List of Failures if Present\n",
    "if len(riverine_fail_list) > 0:\n",
    "    print(\"Coastal Failed Conversions\")\n",
    "\n",
    "    for item in riverine_fail_list:\n",
    "        print(f\"  {item}\")"
   ]
  }
 ],
 "metadata": {
  "kernelspec": {
   "display_name": "ArcGISPro",
   "language": "Python",
   "name": "python3"
  },
  "language_info": {
   "file_extension": ".py",
   "name": "python",
   "version": "3"
  }
 },
 "nbformat": 4,
 "nbformat_minor": 2
}
